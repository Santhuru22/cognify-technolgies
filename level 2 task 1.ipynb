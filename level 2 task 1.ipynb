{
  "nbformat": 4,
  "nbformat_minor": 0,
  "metadata": {
    "colab": {
      "provenance": []
    },
    "kernelspec": {
      "name": "python3",
      "display_name": "Python 3"
    },
    "language_info": {
      "name": "python"
    }
  },
  "cells": [
    {
      "cell_type": "markdown",
      "source": [
        "#  Cognifyz Technologies\n",
        "## Data Science Internship\n",
        "## Level 02 - Task 01\n",
        "*Import Libraries*"
      ],
      "metadata": {
        "id": "APGE7BIYQV4w"
      }
    },
    {
      "cell_type": "code",
      "source": [
        "import pandas as pd\n",
        "import numpy as np\n",
        "import matplotlib.pyplot as plt\n",
        "import seaborn as sns\n",
        "from io import StringIO"
      ],
      "metadata": {
        "id": "z2fA72hERMQ2"
      },
      "execution_count": 20,
      "outputs": []
    },
    {
      "cell_type": "markdown",
      "source": [
        "### *Choose Dataset from Local Directory*"
      ],
      "metadata": {
        "id": "0C04J4ZYXTnC"
      }
    },
    {
      "cell_type": "code",
      "source": [
        "from google.colab import files\n",
        "uploaded = files.upload()"
      ],
      "metadata": {
        "colab": {
          "base_uri": "https://localhost:8080/",
          "height": 73
        },
        "id": "zOGS0aL8RK3V",
        "outputId": "09807e26-7c26-42f3-9aa5-27883e00d712"
      },
      "execution_count": 1,
      "outputs": [
        {
          "output_type": "display_data",
          "data": {
            "text/plain": [
              "<IPython.core.display.HTML object>"
            ],
            "text/html": [
              "\n",
              "     <input type=\"file\" id=\"files-22152caa-8e30-47a8-a9fa-3aa90e92646d\" name=\"files[]\" multiple disabled\n",
              "        style=\"border:none\" />\n",
              "     <output id=\"result-22152caa-8e30-47a8-a9fa-3aa90e92646d\">\n",
              "      Upload widget is only available when the cell has been executed in the\n",
              "      current browser session. Please rerun this cell to enable.\n",
              "      </output>\n",
              "      <script>// Copyright 2017 Google LLC\n",
              "//\n",
              "// Licensed under the Apache License, Version 2.0 (the \"License\");\n",
              "// you may not use this file except in compliance with the License.\n",
              "// You may obtain a copy of the License at\n",
              "//\n",
              "//      http://www.apache.org/licenses/LICENSE-2.0\n",
              "//\n",
              "// Unless required by applicable law or agreed to in writing, software\n",
              "// distributed under the License is distributed on an \"AS IS\" BASIS,\n",
              "// WITHOUT WARRANTIES OR CONDITIONS OF ANY KIND, either express or implied.\n",
              "// See the License for the specific language governing permissions and\n",
              "// limitations under the License.\n",
              "\n",
              "/**\n",
              " * @fileoverview Helpers for google.colab Python module.\n",
              " */\n",
              "(function(scope) {\n",
              "function span(text, styleAttributes = {}) {\n",
              "  const element = document.createElement('span');\n",
              "  element.textContent = text;\n",
              "  for (const key of Object.keys(styleAttributes)) {\n",
              "    element.style[key] = styleAttributes[key];\n",
              "  }\n",
              "  return element;\n",
              "}\n",
              "\n",
              "// Max number of bytes which will be uploaded at a time.\n",
              "const MAX_PAYLOAD_SIZE = 100 * 1024;\n",
              "\n",
              "function _uploadFiles(inputId, outputId) {\n",
              "  const steps = uploadFilesStep(inputId, outputId);\n",
              "  const outputElement = document.getElementById(outputId);\n",
              "  // Cache steps on the outputElement to make it available for the next call\n",
              "  // to uploadFilesContinue from Python.\n",
              "  outputElement.steps = steps;\n",
              "\n",
              "  return _uploadFilesContinue(outputId);\n",
              "}\n",
              "\n",
              "// This is roughly an async generator (not supported in the browser yet),\n",
              "// where there are multiple asynchronous steps and the Python side is going\n",
              "// to poll for completion of each step.\n",
              "// This uses a Promise to block the python side on completion of each step,\n",
              "// then passes the result of the previous step as the input to the next step.\n",
              "function _uploadFilesContinue(outputId) {\n",
              "  const outputElement = document.getElementById(outputId);\n",
              "  const steps = outputElement.steps;\n",
              "\n",
              "  const next = steps.next(outputElement.lastPromiseValue);\n",
              "  return Promise.resolve(next.value.promise).then((value) => {\n",
              "    // Cache the last promise value to make it available to the next\n",
              "    // step of the generator.\n",
              "    outputElement.lastPromiseValue = value;\n",
              "    return next.value.response;\n",
              "  });\n",
              "}\n",
              "\n",
              "/**\n",
              " * Generator function which is called between each async step of the upload\n",
              " * process.\n",
              " * @param {string} inputId Element ID of the input file picker element.\n",
              " * @param {string} outputId Element ID of the output display.\n",
              " * @return {!Iterable<!Object>} Iterable of next steps.\n",
              " */\n",
              "function* uploadFilesStep(inputId, outputId) {\n",
              "  const inputElement = document.getElementById(inputId);\n",
              "  inputElement.disabled = false;\n",
              "\n",
              "  const outputElement = document.getElementById(outputId);\n",
              "  outputElement.innerHTML = '';\n",
              "\n",
              "  const pickedPromise = new Promise((resolve) => {\n",
              "    inputElement.addEventListener('change', (e) => {\n",
              "      resolve(e.target.files);\n",
              "    });\n",
              "  });\n",
              "\n",
              "  const cancel = document.createElement('button');\n",
              "  inputElement.parentElement.appendChild(cancel);\n",
              "  cancel.textContent = 'Cancel upload';\n",
              "  const cancelPromise = new Promise((resolve) => {\n",
              "    cancel.onclick = () => {\n",
              "      resolve(null);\n",
              "    };\n",
              "  });\n",
              "\n",
              "  // Wait for the user to pick the files.\n",
              "  const files = yield {\n",
              "    promise: Promise.race([pickedPromise, cancelPromise]),\n",
              "    response: {\n",
              "      action: 'starting',\n",
              "    }\n",
              "  };\n",
              "\n",
              "  cancel.remove();\n",
              "\n",
              "  // Disable the input element since further picks are not allowed.\n",
              "  inputElement.disabled = true;\n",
              "\n",
              "  if (!files) {\n",
              "    return {\n",
              "      response: {\n",
              "        action: 'complete',\n",
              "      }\n",
              "    };\n",
              "  }\n",
              "\n",
              "  for (const file of files) {\n",
              "    const li = document.createElement('li');\n",
              "    li.append(span(file.name, {fontWeight: 'bold'}));\n",
              "    li.append(span(\n",
              "        `(${file.type || 'n/a'}) - ${file.size} bytes, ` +\n",
              "        `last modified: ${\n",
              "            file.lastModifiedDate ? file.lastModifiedDate.toLocaleDateString() :\n",
              "                                    'n/a'} - `));\n",
              "    const percent = span('0% done');\n",
              "    li.appendChild(percent);\n",
              "\n",
              "    outputElement.appendChild(li);\n",
              "\n",
              "    const fileDataPromise = new Promise((resolve) => {\n",
              "      const reader = new FileReader();\n",
              "      reader.onload = (e) => {\n",
              "        resolve(e.target.result);\n",
              "      };\n",
              "      reader.readAsArrayBuffer(file);\n",
              "    });\n",
              "    // Wait for the data to be ready.\n",
              "    let fileData = yield {\n",
              "      promise: fileDataPromise,\n",
              "      response: {\n",
              "        action: 'continue',\n",
              "      }\n",
              "    };\n",
              "\n",
              "    // Use a chunked sending to avoid message size limits. See b/62115660.\n",
              "    let position = 0;\n",
              "    do {\n",
              "      const length = Math.min(fileData.byteLength - position, MAX_PAYLOAD_SIZE);\n",
              "      const chunk = new Uint8Array(fileData, position, length);\n",
              "      position += length;\n",
              "\n",
              "      const base64 = btoa(String.fromCharCode.apply(null, chunk));\n",
              "      yield {\n",
              "        response: {\n",
              "          action: 'append',\n",
              "          file: file.name,\n",
              "          data: base64,\n",
              "        },\n",
              "      };\n",
              "\n",
              "      let percentDone = fileData.byteLength === 0 ?\n",
              "          100 :\n",
              "          Math.round((position / fileData.byteLength) * 100);\n",
              "      percent.textContent = `${percentDone}% done`;\n",
              "\n",
              "    } while (position < fileData.byteLength);\n",
              "  }\n",
              "\n",
              "  // All done.\n",
              "  yield {\n",
              "    response: {\n",
              "      action: 'complete',\n",
              "    }\n",
              "  };\n",
              "}\n",
              "\n",
              "scope.google = scope.google || {};\n",
              "scope.google.colab = scope.google.colab || {};\n",
              "scope.google.colab._files = {\n",
              "  _uploadFiles,\n",
              "  _uploadFilesContinue,\n",
              "};\n",
              "})(self);\n",
              "</script> "
            ]
          },
          "metadata": {}
        },
        {
          "output_type": "stream",
          "name": "stdout",
          "text": [
            "Saving Dataset .csv to Dataset .csv\n"
          ]
        }
      ]
    },
    {
      "cell_type": "markdown",
      "source": [
        "###*Percentage of restaurants offering both table booking and online delivery*"
      ],
      "metadata": {
        "id": "UxHcFzy_XNP9"
      }
    },
    {
      "cell_type": "code",
      "execution_count": 26,
      "metadata": {
        "colab": {
          "base_uri": "https://localhost:8080/"
        },
        "id": "pKAtt0_jnCZp",
        "outputId": "66f4b6de-3b6a-447b-9d86-e733d09f5275"
      },
      "outputs": [
        {
          "output_type": "stream",
          "name": "stdout",
          "text": [
            "Table Booking Available: 12.1%\n",
            "Online Delivery Available: 25.7%\n",
            "Both Services Available: 4.6%\n",
            "\n"
          ]
        }
      ],
      "source": [
        "df = pd.read_csv(\"Dataset .csv\")\n",
        "total_restaurants = len(df)\n",
        "both_services = df[(df[\"Has Table booking\"] == \"Yes\") & (df[\"Has Online delivery\"] == \"Yes\")]\n",
        "percentage_both_services = (len(both_services) / total_restaurants) * 100\n",
        "print(f\"Table Booking Available: {table_booking_pct:.1f}%\")\n",
        "print(f\"Online Delivery Available: {online_delivery_pct:.1f}%\")\n",
        "print(f\"Both Services Available: {both_pct:.1f}%\\n\")"
      ]
    },
    {
      "cell_type": "markdown",
      "source": [
        "### *Average rating comparison for restaurants with and without table booking*"
      ],
      "metadata": {
        "id": "kWLptIbsb_sH"
      }
    },
    {
      "cell_type": "code",
      "source": [
        "avg_ratings = df.groupby(\"Has Table booking\")[\"Aggregate rating\"].mean()\n",
        "\n",
        "avg_rating_with_booking = avg_ratings.get(\"Yes\", 0)\n",
        "avg_rating_without_booking = avg_ratings.get(\"No\", 0)\n",
        "both_average = (avg_rating_with_booking + avg_rating_without_booking) / 2\n",
        "\n",
        "print(f\"Average rating with table booking: {avg_rating_with_booking:.2f}\")\n",
        "print(f\"Average rating without table booking: {avg_rating_without_booking:.2f}\")\n",
        "print(f\"Both average rating: {both_average:.2f}\")\n",
        "\n"
      ],
      "metadata": {
        "colab": {
          "base_uri": "https://localhost:8080/"
        },
        "id": "lDsvlNBUXi4w",
        "outputId": "69ed095c-d392-49d3-f47a-053fd933b459"
      },
      "execution_count": 35,
      "outputs": [
        {
          "output_type": "stream",
          "name": "stdout",
          "text": [
            "Average rating with table booking: 3.44\n",
            "Average rating without table booking: 2.56\n",
            "Both average rating: 3.00\n"
          ]
        }
      ]
    },
    {
      "cell_type": "markdown",
      "source": [
        "### *Online delivery availability across price ranges*"
      ],
      "metadata": {
        "id": "XlXI294CcB2t"
      }
    },
    {
      "cell_type": "code",
      "source": [
        "online_delivery_by_price = df.groupby(\"Price range\")[\"Has Online delivery\"].value_counts(normalize=True).unstack() * 100\n",
        "price_analysis = online_delivery_by_price.mean()\n",
        "print(\"Online Delivery by Price Range\")\n",
        "for price, pct in price_analysis.items():\n",
        "    print(f\"Price Range {price}: {pct:.1f}%\")\n",
        "\n",
        "plt.style.use(\"ggplot\")\n",
        "plt.figure(figsize=(10, 6))\n",
        "bar_colors = ['#4CAF50', '#2196F3', '#9C27B0', '#FF9800']\n",
        "edge_color = '#2C3E50'\n",
        "text_color = '#2C3E50'\n",
        "online_delivery_by_price.plot(kind='bar',\n",
        "                             color=bar_colors,\n",
        "                             edgecolor=edge_color,\n",
        "                             linewidth=1.2,\n",
        "                             figsize=(10, 6))\n",
        "\n",
        "plt.xlabel(\"Price Range\", fontsize=12, color=text_color)\n",
        "plt.ylabel(\"Percentage\", fontsize=12, color=text_color)\n",
        "plt.title(\"Online Delivery Availability Across Price Ranges\",\n",
        "          fontsize=14,\n",
        "          fontweight='bold',\n",
        "          color='#E74C3C',\n",
        "          pad=20)\n",
        "\n",
        "plt.xticks(rotation=0, fontsize=10, color=text_color)\n",
        "plt.yticks(fontsize=10, color=text_color)\n",
        "plt.grid(axis='y', linestyle='--', alpha=0.7, color='#BDC3C7')\n",
        "\n",
        "for index, values in enumerate(online_delivery_by_price.itertuples()):\n",
        "    for i, value in enumerate(values[1:]):\n",
        "        plt.text(index + i * 0.2,\n",
        "                 value + 1,\n",
        "                 f'{value:.1f}%',\n",
        "                 ha='center',\n",
        "                 fontsize=10,\n",
        "                 color='black')\n",
        "\n",
        "\n",
        "plt.tight_layout()\n",
        "plt.show()"
      ],
      "metadata": {
        "colab": {
          "base_uri": "https://localhost:8080/",
          "height": 676
        },
        "id": "GsqoL5SHZe45",
        "outputId": "c1193947-be7f-4696-ec5c-b34dcd4d6220"
      },
      "execution_count": 50,
      "outputs": [
        {
          "output_type": "stream",
          "name": "stdout",
          "text": [
            "Online Delivery by Price Range\n",
            "Price Range No: 76.2%\n",
            "Price Range Yes: 23.8%\n"
          ]
        },
        {
          "output_type": "display_data",
          "data": {
            "text/plain": [
              "<Figure size 1000x600 with 0 Axes>"
            ]
          },
          "metadata": {}
        },
        {
          "output_type": "display_data",
          "data": {
            "text/plain": [
              "<Figure size 1000x600 with 1 Axes>"
            ],
            "image/png": "[encoded data removed]"
          },
          "metadata": {}
        }
      ]
    }
  ]
}